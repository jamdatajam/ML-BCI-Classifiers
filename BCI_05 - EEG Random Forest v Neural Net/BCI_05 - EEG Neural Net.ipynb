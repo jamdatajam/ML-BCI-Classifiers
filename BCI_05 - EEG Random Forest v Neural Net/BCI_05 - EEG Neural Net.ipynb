{
  "nbformat": 4,
  "nbformat_minor": 0,
  "metadata": {
    "colab": {
      "name": "EEG Random Forest.ipynb",
      "version": "0.3.2",
      "provenance": [],
      "collapsed_sections": []
    },
    "kernelspec": {
      "name": "python3",
      "display_name": "Python 3"
    }
  },
  "cells": [
    {
      "metadata": {
        "id": "TXxG1uZvL9h6",
        "colab_type": "code",
        "colab": {}
      },
      "cell_type": "code",
      "source": [
        "import pandas as pd\n",
        "import numpy as np\n",
        "import scipy.io as sio\n",
        "import matplotlib.pyplot\n",
        "%matplotlib inline\n",
        "import seaborn as sns\n",
        "import tensorflow as tf\n",
        "from sklearn.metrics import classification_report, confusion_matrix"
      ],
      "execution_count": 0,
      "outputs": []
    },
    {
      "metadata": {
        "id": "YTe0FDYvMH_Y",
        "colab_type": "code",
        "colab": {}
      },
      "cell_type": "code",
      "source": [
        "from google.colab import files"
      ],
      "execution_count": 0,
      "outputs": []
    },
    {
      "metadata": {
        "id": "6t76XvvPML-Z",
        "colab_type": "code",
        "colab": {}
      },
      "cell_type": "code",
      "source": [
        "#files.upload()"
      ],
      "execution_count": 0,
      "outputs": []
    },
    {
      "metadata": {
        "id": "byYhFWK9NJ1I",
        "colab_type": "code",
        "colab": {}
      },
      "cell_type": "code",
      "source": [
        "data = sio.loadmat('EEG05_Data.mat')"
      ],
      "execution_count": 0,
      "outputs": []
    },
    {
      "metadata": {
        "id": "B2j1nnIiSMLO",
        "colab_type": "text"
      },
      "cell_type": "markdown",
      "source": [
        "**(1) First, preprocessing**"
      ]
    },
    {
      "metadata": {
        "id": "HNQoQqokN6Sv",
        "colab_type": "code",
        "outputId": "6241a5b8-a378-4a6a-a845-9279edd0a522",
        "colab": {
          "base_uri": "https://localhost:8080/",
          "height": 34
        }
      },
      "cell_type": "code",
      "source": [
        "type(data)"
      ],
      "execution_count": 0,
      "outputs": [
        {
          "output_type": "execute_result",
          "data": {
            "text/plain": [
              "dict"
            ]
          },
          "metadata": {
            "tags": []
          },
          "execution_count": 7
        }
      ]
    },
    {
      "metadata": {
        "id": "KUV3db4ON-4Q",
        "colab_type": "code",
        "outputId": "a8365b9b-e7e5-42f6-fd38-00b8c692efdc",
        "colab": {
          "base_uri": "https://localhost:8080/",
          "height": 54
        }
      },
      "cell_type": "code",
      "source": [
        "print(data.keys())"
      ],
      "execution_count": 0,
      "outputs": [
        {
          "output_type": "stream",
          "text": [
            "dict_keys(['__header__', '__version__', '__globals__', 'ElectrodeLabels', 'Fs', 'StimulusCode_Collection1', 'eeg_data_Collection1', 'StimulusCode_Collection2', 'eeg_data_Collection2', 'StimulusCode_Collection3', 'eeg_data_Collection3'])\n"
          ],
          "name": "stdout"
        }
      ]
    },
    {
      "metadata": {
        "id": "FWLedurAOIeg",
        "colab_type": "code",
        "colab": {}
      },
      "cell_type": "code",
      "source": [
        "#get the dat into variables to make dataframes\n",
        "stim_1 = data['StimulusCode_Collection1'] #this is the training data for stimulus"
      ],
      "execution_count": 0,
      "outputs": []
    },
    {
      "metadata": {
        "id": "LbNCiBTSSCBW",
        "colab_type": "code",
        "outputId": "e6cadad4-36f0-43db-c015-da14d9f1c561",
        "colab": {
          "base_uri": "https://localhost:8080/",
          "height": 34
        }
      },
      "cell_type": "code",
      "source": [
        "stim_1.shape"
      ],
      "execution_count": 0,
      "outputs": [
        {
          "output_type": "execute_result",
          "data": {
            "text/plain": [
              "(19696, 1)"
            ]
          },
          "metadata": {
            "tags": []
          },
          "execution_count": 29
        }
      ]
    },
    {
      "metadata": {
        "id": "xg5FOt0XlmUy",
        "colab_type": "code",
        "colab": {}
      },
      "cell_type": "code",
      "source": [
        "###convert stim_1 from uint8 to int32\n",
        "stim_1 = np.array(stim_1, dtype = np.int32)"
      ],
      "execution_count": 0,
      "outputs": []
    },
    {
      "metadata": {
        "id": "cbR3-hDfO5Uv",
        "colab_type": "code",
        "colab": {}
      },
      "cell_type": "code",
      "source": [
        "eeg_1 = data['eeg_data_Collection1'] #this is the training data for the eeg models"
      ],
      "execution_count": 0,
      "outputs": []
    },
    {
      "metadata": {
        "id": "zQkacpy3PCJn",
        "colab_type": "code",
        "colab": {}
      },
      "cell_type": "code",
      "source": [
        "#now the rest of the testing data\n",
        "stim_2 = data['StimulusCode_Collection2']\n",
        "eeg_2 = data['eeg_data_Collection2']\n",
        "\n",
        "#Save this for later if necessary for testing\n",
        "#stim_3 = data['StimulusCode_Collection3']\n",
        "#eeg_3 = data['eeg_data_Collection3']"
      ],
      "execution_count": 0,
      "outputs": []
    },
    {
      "metadata": {
        "id": "FEuDjdllPsbn",
        "colab_type": "code",
        "outputId": "b9de413c-f679-4c78-fa97-9a9add712fa5",
        "colab": {
          "base_uri": "https://localhost:8080/",
          "height": 34
        }
      },
      "cell_type": "code",
      "source": [
        "type(eeg_1)\n",
        "eeg_1.shape"
      ],
      "execution_count": 0,
      "outputs": [
        {
          "output_type": "execute_result",
          "data": {
            "text/plain": [
              "(64, 19696)"
            ]
          },
          "metadata": {
            "tags": []
          },
          "execution_count": 119
        }
      ]
    },
    {
      "metadata": {
        "id": "oOwM0Ww2RC9-",
        "colab_type": "code",
        "outputId": "d33f69ed-04d0-404f-950c-c2b65e17b753",
        "colab": {
          "base_uri": "https://localhost:8080/",
          "height": 34
        }
      },
      "cell_type": "code",
      "source": [
        "#now flip the matrices to columns = electrodes\n",
        "eeg_1t = eeg_1.transpose()\n",
        "eeg_1t.shape"
      ],
      "execution_count": 0,
      "outputs": [
        {
          "output_type": "execute_result",
          "data": {
            "text/plain": [
              "(19696, 64)"
            ]
          },
          "metadata": {
            "tags": []
          },
          "execution_count": 120
        }
      ]
    },
    {
      "metadata": {
        "id": "auBVmD0cSF-W",
        "colab_type": "code",
        "colab": {}
      },
      "cell_type": "code",
      "source": [
        "#now the rest of the transposes\n",
        "eeg_2t = eeg_2.transpose()\n",
        "#eeg_3t = eeg_3.transpose()"
      ],
      "execution_count": 0,
      "outputs": []
    },
    {
      "metadata": {
        "id": "I75TBs1oPvvv",
        "colab_type": "code",
        "outputId": "c2395a2e-9291-446c-8f4d-6e907ec01d3c",
        "colab": {
          "base_uri": "https://localhost:8080/",
          "height": 233
        }
      },
      "cell_type": "code",
      "source": [
        "#now convert to dataframes\n",
        "data_train = pd.DataFrame(eeg_1t)\n",
        "data_train.head()"
      ],
      "execution_count": 0,
      "outputs": [
        {
          "output_type": "execute_result",
          "data": {
            "text/html": [
              "<div>\n",
              "<style scoped>\n",
              "    .dataframe tbody tr th:only-of-type {\n",
              "        vertical-align: middle;\n",
              "    }\n",
              "\n",
              "    .dataframe tbody tr th {\n",
              "        vertical-align: top;\n",
              "    }\n",
              "\n",
              "    .dataframe thead th {\n",
              "        text-align: right;\n",
              "    }\n",
              "</style>\n",
              "<table border=\"1\" class=\"dataframe\">\n",
              "  <thead>\n",
              "    <tr style=\"text-align: right;\">\n",
              "      <th></th>\n",
              "      <th>0</th>\n",
              "      <th>1</th>\n",
              "      <th>2</th>\n",
              "      <th>3</th>\n",
              "      <th>4</th>\n",
              "      <th>5</th>\n",
              "      <th>6</th>\n",
              "      <th>7</th>\n",
              "      <th>8</th>\n",
              "      <th>9</th>\n",
              "      <th>...</th>\n",
              "      <th>54</th>\n",
              "      <th>55</th>\n",
              "      <th>56</th>\n",
              "      <th>57</th>\n",
              "      <th>58</th>\n",
              "      <th>59</th>\n",
              "      <th>60</th>\n",
              "      <th>61</th>\n",
              "      <th>62</th>\n",
              "      <th>63</th>\n",
              "    </tr>\n",
              "  </thead>\n",
              "  <tbody>\n",
              "    <tr>\n",
              "      <th>0</th>\n",
              "      <td>-960</td>\n",
              "      <td>-768</td>\n",
              "      <td>-752</td>\n",
              "      <td>-1200</td>\n",
              "      <td>-624</td>\n",
              "      <td>-608</td>\n",
              "      <td>80</td>\n",
              "      <td>-480</td>\n",
              "      <td>-656</td>\n",
              "      <td>-720</td>\n",
              "      <td>...</td>\n",
              "      <td>0</td>\n",
              "      <td>-496</td>\n",
              "      <td>-976</td>\n",
              "      <td>-688</td>\n",
              "      <td>-768</td>\n",
              "      <td>-336</td>\n",
              "      <td>-496</td>\n",
              "      <td>-672</td>\n",
              "      <td>-944</td>\n",
              "      <td>128</td>\n",
              "    </tr>\n",
              "    <tr>\n",
              "      <th>1</th>\n",
              "      <td>128</td>\n",
              "      <td>-48</td>\n",
              "      <td>-192</td>\n",
              "      <td>-864</td>\n",
              "      <td>-368</td>\n",
              "      <td>-368</td>\n",
              "      <td>416</td>\n",
              "      <td>-112</td>\n",
              "      <td>-304</td>\n",
              "      <td>-432</td>\n",
              "      <td>...</td>\n",
              "      <td>-1264</td>\n",
              "      <td>-1040</td>\n",
              "      <td>-1408</td>\n",
              "      <td>-1040</td>\n",
              "      <td>-1280</td>\n",
              "      <td>-1168</td>\n",
              "      <td>-768</td>\n",
              "      <td>-976</td>\n",
              "      <td>-1312</td>\n",
              "      <td>-528</td>\n",
              "    </tr>\n",
              "    <tr>\n",
              "      <th>2</th>\n",
              "      <td>-528</td>\n",
              "      <td>-272</td>\n",
              "      <td>-224</td>\n",
              "      <td>-832</td>\n",
              "      <td>-592</td>\n",
              "      <td>-592</td>\n",
              "      <td>-80</td>\n",
              "      <td>-496</td>\n",
              "      <td>-464</td>\n",
              "      <td>-544</td>\n",
              "      <td>...</td>\n",
              "      <td>-960</td>\n",
              "      <td>-1008</td>\n",
              "      <td>-1296</td>\n",
              "      <td>-656</td>\n",
              "      <td>-848</td>\n",
              "      <td>-800</td>\n",
              "      <td>-624</td>\n",
              "      <td>-768</td>\n",
              "      <td>-976</td>\n",
              "      <td>-480</td>\n",
              "    </tr>\n",
              "    <tr>\n",
              "      <th>3</th>\n",
              "      <td>-128</td>\n",
              "      <td>160</td>\n",
              "      <td>240</td>\n",
              "      <td>-368</td>\n",
              "      <td>-80</td>\n",
              "      <td>-48</td>\n",
              "      <td>144</td>\n",
              "      <td>256</td>\n",
              "      <td>32</td>\n",
              "      <td>-144</td>\n",
              "      <td>...</td>\n",
              "      <td>-384</td>\n",
              "      <td>-448</td>\n",
              "      <td>-864</td>\n",
              "      <td>-480</td>\n",
              "      <td>-640</td>\n",
              "      <td>-544</td>\n",
              "      <td>-368</td>\n",
              "      <td>-560</td>\n",
              "      <td>-688</td>\n",
              "      <td>-80</td>\n",
              "    </tr>\n",
              "    <tr>\n",
              "      <th>4</th>\n",
              "      <td>656</td>\n",
              "      <td>208</td>\n",
              "      <td>112</td>\n",
              "      <td>-528</td>\n",
              "      <td>-64</td>\n",
              "      <td>-48</td>\n",
              "      <td>352</td>\n",
              "      <td>208</td>\n",
              "      <td>-240</td>\n",
              "      <td>-448</td>\n",
              "      <td>...</td>\n",
              "      <td>-752</td>\n",
              "      <td>-1264</td>\n",
              "      <td>-1264</td>\n",
              "      <td>-528</td>\n",
              "      <td>-896</td>\n",
              "      <td>-752</td>\n",
              "      <td>-512</td>\n",
              "      <td>-672</td>\n",
              "      <td>-896</td>\n",
              "      <td>-416</td>\n",
              "    </tr>\n",
              "  </tbody>\n",
              "</table>\n",
              "<p>5 rows × 64 columns</p>\n",
              "</div>"
            ],
            "text/plain": [
              "    0    1    2     3    4    5    6    7    8    9  ...     54    55    56  \\\n",
              "0 -960 -768 -752 -1200 -624 -608   80 -480 -656 -720 ...      0  -496  -976   \n",
              "1  128  -48 -192  -864 -368 -368  416 -112 -304 -432 ...  -1264 -1040 -1408   \n",
              "2 -528 -272 -224  -832 -592 -592  -80 -496 -464 -544 ...   -960 -1008 -1296   \n",
              "3 -128  160  240  -368  -80  -48  144  256   32 -144 ...   -384  -448  -864   \n",
              "4  656  208  112  -528  -64  -48  352  208 -240 -448 ...   -752 -1264 -1264   \n",
              "\n",
              "     57    58    59   60   61    62   63  \n",
              "0  -688  -768  -336 -496 -672  -944  128  \n",
              "1 -1040 -1280 -1168 -768 -976 -1312 -528  \n",
              "2  -656  -848  -800 -624 -768  -976 -480  \n",
              "3  -480  -640  -544 -368 -560  -688  -80  \n",
              "4  -528  -896  -752 -512 -672  -896 -416  \n",
              "\n",
              "[5 rows x 64 columns]"
            ]
          },
          "metadata": {
            "tags": []
          },
          "execution_count": 122
        }
      ]
    },
    {
      "metadata": {
        "id": "2UfeC81GTd0-",
        "colab_type": "code",
        "outputId": "6370ef9b-f089-47c8-8cd1-d232b9a86e87",
        "colab": {
          "base_uri": "https://localhost:8080/",
          "height": 233
        }
      },
      "cell_type": "code",
      "source": [
        "#then add the stim data as column 64\n",
        "idx = 64\n",
        "col_name = 'stim_1'\n",
        "data_train.insert(idx, column = col_name, value=stim_1)\n",
        "data_train.head()"
      ],
      "execution_count": 0,
      "outputs": [
        {
          "output_type": "execute_result",
          "data": {
            "text/html": [
              "<div>\n",
              "<style scoped>\n",
              "    .dataframe tbody tr th:only-of-type {\n",
              "        vertical-align: middle;\n",
              "    }\n",
              "\n",
              "    .dataframe tbody tr th {\n",
              "        vertical-align: top;\n",
              "    }\n",
              "\n",
              "    .dataframe thead th {\n",
              "        text-align: right;\n",
              "    }\n",
              "</style>\n",
              "<table border=\"1\" class=\"dataframe\">\n",
              "  <thead>\n",
              "    <tr style=\"text-align: right;\">\n",
              "      <th></th>\n",
              "      <th>0</th>\n",
              "      <th>1</th>\n",
              "      <th>2</th>\n",
              "      <th>3</th>\n",
              "      <th>4</th>\n",
              "      <th>5</th>\n",
              "      <th>6</th>\n",
              "      <th>7</th>\n",
              "      <th>8</th>\n",
              "      <th>9</th>\n",
              "      <th>...</th>\n",
              "      <th>55</th>\n",
              "      <th>56</th>\n",
              "      <th>57</th>\n",
              "      <th>58</th>\n",
              "      <th>59</th>\n",
              "      <th>60</th>\n",
              "      <th>61</th>\n",
              "      <th>62</th>\n",
              "      <th>63</th>\n",
              "      <th>stim_1</th>\n",
              "    </tr>\n",
              "  </thead>\n",
              "  <tbody>\n",
              "    <tr>\n",
              "      <th>0</th>\n",
              "      <td>-960</td>\n",
              "      <td>-768</td>\n",
              "      <td>-752</td>\n",
              "      <td>-1200</td>\n",
              "      <td>-624</td>\n",
              "      <td>-608</td>\n",
              "      <td>80</td>\n",
              "      <td>-480</td>\n",
              "      <td>-656</td>\n",
              "      <td>-720</td>\n",
              "      <td>...</td>\n",
              "      <td>-496</td>\n",
              "      <td>-976</td>\n",
              "      <td>-688</td>\n",
              "      <td>-768</td>\n",
              "      <td>-336</td>\n",
              "      <td>-496</td>\n",
              "      <td>-672</td>\n",
              "      <td>-944</td>\n",
              "      <td>128</td>\n",
              "      <td>0</td>\n",
              "    </tr>\n",
              "    <tr>\n",
              "      <th>1</th>\n",
              "      <td>128</td>\n",
              "      <td>-48</td>\n",
              "      <td>-192</td>\n",
              "      <td>-864</td>\n",
              "      <td>-368</td>\n",
              "      <td>-368</td>\n",
              "      <td>416</td>\n",
              "      <td>-112</td>\n",
              "      <td>-304</td>\n",
              "      <td>-432</td>\n",
              "      <td>...</td>\n",
              "      <td>-1040</td>\n",
              "      <td>-1408</td>\n",
              "      <td>-1040</td>\n",
              "      <td>-1280</td>\n",
              "      <td>-1168</td>\n",
              "      <td>-768</td>\n",
              "      <td>-976</td>\n",
              "      <td>-1312</td>\n",
              "      <td>-528</td>\n",
              "      <td>0</td>\n",
              "    </tr>\n",
              "    <tr>\n",
              "      <th>2</th>\n",
              "      <td>-528</td>\n",
              "      <td>-272</td>\n",
              "      <td>-224</td>\n",
              "      <td>-832</td>\n",
              "      <td>-592</td>\n",
              "      <td>-592</td>\n",
              "      <td>-80</td>\n",
              "      <td>-496</td>\n",
              "      <td>-464</td>\n",
              "      <td>-544</td>\n",
              "      <td>...</td>\n",
              "      <td>-1008</td>\n",
              "      <td>-1296</td>\n",
              "      <td>-656</td>\n",
              "      <td>-848</td>\n",
              "      <td>-800</td>\n",
              "      <td>-624</td>\n",
              "      <td>-768</td>\n",
              "      <td>-976</td>\n",
              "      <td>-480</td>\n",
              "      <td>0</td>\n",
              "    </tr>\n",
              "    <tr>\n",
              "      <th>3</th>\n",
              "      <td>-128</td>\n",
              "      <td>160</td>\n",
              "      <td>240</td>\n",
              "      <td>-368</td>\n",
              "      <td>-80</td>\n",
              "      <td>-48</td>\n",
              "      <td>144</td>\n",
              "      <td>256</td>\n",
              "      <td>32</td>\n",
              "      <td>-144</td>\n",
              "      <td>...</td>\n",
              "      <td>-448</td>\n",
              "      <td>-864</td>\n",
              "      <td>-480</td>\n",
              "      <td>-640</td>\n",
              "      <td>-544</td>\n",
              "      <td>-368</td>\n",
              "      <td>-560</td>\n",
              "      <td>-688</td>\n",
              "      <td>-80</td>\n",
              "      <td>0</td>\n",
              "    </tr>\n",
              "    <tr>\n",
              "      <th>4</th>\n",
              "      <td>656</td>\n",
              "      <td>208</td>\n",
              "      <td>112</td>\n",
              "      <td>-528</td>\n",
              "      <td>-64</td>\n",
              "      <td>-48</td>\n",
              "      <td>352</td>\n",
              "      <td>208</td>\n",
              "      <td>-240</td>\n",
              "      <td>-448</td>\n",
              "      <td>...</td>\n",
              "      <td>-1264</td>\n",
              "      <td>-1264</td>\n",
              "      <td>-528</td>\n",
              "      <td>-896</td>\n",
              "      <td>-752</td>\n",
              "      <td>-512</td>\n",
              "      <td>-672</td>\n",
              "      <td>-896</td>\n",
              "      <td>-416</td>\n",
              "      <td>0</td>\n",
              "    </tr>\n",
              "  </tbody>\n",
              "</table>\n",
              "<p>5 rows × 65 columns</p>\n",
              "</div>"
            ],
            "text/plain": [
              "     0    1    2     3    4    5    6    7    8    9   ...      55    56  \\\n",
              "0 -960 -768 -752 -1200 -624 -608   80 -480 -656 -720   ...    -496  -976   \n",
              "1  128  -48 -192  -864 -368 -368  416 -112 -304 -432   ...   -1040 -1408   \n",
              "2 -528 -272 -224  -832 -592 -592  -80 -496 -464 -544   ...   -1008 -1296   \n",
              "3 -128  160  240  -368  -80  -48  144  256   32 -144   ...    -448  -864   \n",
              "4  656  208  112  -528  -64  -48  352  208 -240 -448   ...   -1264 -1264   \n",
              "\n",
              "     57    58    59   60   61    62   63  stim_1  \n",
              "0  -688  -768  -336 -496 -672  -944  128       0  \n",
              "1 -1040 -1280 -1168 -768 -976 -1312 -528       0  \n",
              "2  -656  -848  -800 -624 -768  -976 -480       0  \n",
              "3  -480  -640  -544 -368 -560  -688  -80       0  \n",
              "4  -528  -896  -752 -512 -672  -896 -416       0  \n",
              "\n",
              "[5 rows x 65 columns]"
            ]
          },
          "metadata": {
            "tags": []
          },
          "execution_count": 123
        }
      ]
    },
    {
      "metadata": {
        "id": "P7wT_51OVFZu",
        "colab_type": "code",
        "outputId": "685a72db-f9ed-4e24-ecdb-6097950d7cf4",
        "colab": {
          "base_uri": "https://localhost:8080/",
          "height": 233
        }
      },
      "cell_type": "code",
      "source": [
        "#then set up the first test set (set = eeg_2t)\n",
        "data_test2 = pd.DataFrame(eeg_2t)\n",
        "data_test2.head()"
      ],
      "execution_count": 0,
      "outputs": [
        {
          "output_type": "execute_result",
          "data": {
            "text/html": [
              "<div>\n",
              "<style scoped>\n",
              "    .dataframe tbody tr th:only-of-type {\n",
              "        vertical-align: middle;\n",
              "    }\n",
              "\n",
              "    .dataframe tbody tr th {\n",
              "        vertical-align: top;\n",
              "    }\n",
              "\n",
              "    .dataframe thead th {\n",
              "        text-align: right;\n",
              "    }\n",
              "</style>\n",
              "<table border=\"1\" class=\"dataframe\">\n",
              "  <thead>\n",
              "    <tr style=\"text-align: right;\">\n",
              "      <th></th>\n",
              "      <th>0</th>\n",
              "      <th>1</th>\n",
              "      <th>2</th>\n",
              "      <th>3</th>\n",
              "      <th>4</th>\n",
              "      <th>5</th>\n",
              "      <th>6</th>\n",
              "      <th>7</th>\n",
              "      <th>8</th>\n",
              "      <th>9</th>\n",
              "      <th>...</th>\n",
              "      <th>54</th>\n",
              "      <th>55</th>\n",
              "      <th>56</th>\n",
              "      <th>57</th>\n",
              "      <th>58</th>\n",
              "      <th>59</th>\n",
              "      <th>60</th>\n",
              "      <th>61</th>\n",
              "      <th>62</th>\n",
              "      <th>63</th>\n",
              "    </tr>\n",
              "  </thead>\n",
              "  <tbody>\n",
              "    <tr>\n",
              "      <th>0</th>\n",
              "      <td>800</td>\n",
              "      <td>64</td>\n",
              "      <td>256</td>\n",
              "      <td>64</td>\n",
              "      <td>-16</td>\n",
              "      <td>16</td>\n",
              "      <td>-1120</td>\n",
              "      <td>1472</td>\n",
              "      <td>832</td>\n",
              "      <td>592</td>\n",
              "      <td>...</td>\n",
              "      <td>1376</td>\n",
              "      <td>1072</td>\n",
              "      <td>1152</td>\n",
              "      <td>848</td>\n",
              "      <td>1264</td>\n",
              "      <td>1088</td>\n",
              "      <td>1376</td>\n",
              "      <td>1088</td>\n",
              "      <td>1232</td>\n",
              "      <td>1408</td>\n",
              "    </tr>\n",
              "    <tr>\n",
              "      <th>1</th>\n",
              "      <td>832</td>\n",
              "      <td>208</td>\n",
              "      <td>400</td>\n",
              "      <td>224</td>\n",
              "      <td>368</td>\n",
              "      <td>432</td>\n",
              "      <td>-576</td>\n",
              "      <td>1360</td>\n",
              "      <td>1008</td>\n",
              "      <td>784</td>\n",
              "      <td>...</td>\n",
              "      <td>2416</td>\n",
              "      <td>736</td>\n",
              "      <td>992</td>\n",
              "      <td>992</td>\n",
              "      <td>1568</td>\n",
              "      <td>1552</td>\n",
              "      <td>1408</td>\n",
              "      <td>1152</td>\n",
              "      <td>1344</td>\n",
              "      <td>1392</td>\n",
              "    </tr>\n",
              "    <tr>\n",
              "      <th>2</th>\n",
              "      <td>1040</td>\n",
              "      <td>640</td>\n",
              "      <td>720</td>\n",
              "      <td>544</td>\n",
              "      <td>800</td>\n",
              "      <td>864</td>\n",
              "      <td>-256</td>\n",
              "      <td>1760</td>\n",
              "      <td>1360</td>\n",
              "      <td>1168</td>\n",
              "      <td>...</td>\n",
              "      <td>2672</td>\n",
              "      <td>2256</td>\n",
              "      <td>2208</td>\n",
              "      <td>1808</td>\n",
              "      <td>2352</td>\n",
              "      <td>2736</td>\n",
              "      <td>2448</td>\n",
              "      <td>2208</td>\n",
              "      <td>2128</td>\n",
              "      <td>2320</td>\n",
              "    </tr>\n",
              "    <tr>\n",
              "      <th>3</th>\n",
              "      <td>2112</td>\n",
              "      <td>1280</td>\n",
              "      <td>1440</td>\n",
              "      <td>1232</td>\n",
              "      <td>1392</td>\n",
              "      <td>1440</td>\n",
              "      <td>448</td>\n",
              "      <td>2400</td>\n",
              "      <td>1952</td>\n",
              "      <td>1824</td>\n",
              "      <td>...</td>\n",
              "      <td>2528</td>\n",
              "      <td>1424</td>\n",
              "      <td>1648</td>\n",
              "      <td>1584</td>\n",
              "      <td>2272</td>\n",
              "      <td>2512</td>\n",
              "      <td>1968</td>\n",
              "      <td>1728</td>\n",
              "      <td>1920</td>\n",
              "      <td>1920</td>\n",
              "    </tr>\n",
              "    <tr>\n",
              "      <th>4</th>\n",
              "      <td>1312</td>\n",
              "      <td>720</td>\n",
              "      <td>1056</td>\n",
              "      <td>1040</td>\n",
              "      <td>1120</td>\n",
              "      <td>1152</td>\n",
              "      <td>-112</td>\n",
              "      <td>1824</td>\n",
              "      <td>1472</td>\n",
              "      <td>1488</td>\n",
              "      <td>...</td>\n",
              "      <td>1776</td>\n",
              "      <td>1136</td>\n",
              "      <td>1488</td>\n",
              "      <td>1280</td>\n",
              "      <td>1728</td>\n",
              "      <td>1200</td>\n",
              "      <td>1808</td>\n",
              "      <td>1536</td>\n",
              "      <td>1664</td>\n",
              "      <td>2000</td>\n",
              "    </tr>\n",
              "  </tbody>\n",
              "</table>\n",
              "<p>5 rows × 64 columns</p>\n",
              "</div>"
            ],
            "text/plain": [
              "     0     1     2     3     4     5     6     7     8     9   ...     54  \\\n",
              "0   800    64   256    64   -16    16 -1120  1472   832   592  ...   1376   \n",
              "1   832   208   400   224   368   432  -576  1360  1008   784  ...   2416   \n",
              "2  1040   640   720   544   800   864  -256  1760  1360  1168  ...   2672   \n",
              "3  2112  1280  1440  1232  1392  1440   448  2400  1952  1824  ...   2528   \n",
              "4  1312   720  1056  1040  1120  1152  -112  1824  1472  1488  ...   1776   \n",
              "\n",
              "     55    56    57    58    59    60    61    62    63  \n",
              "0  1072  1152   848  1264  1088  1376  1088  1232  1408  \n",
              "1   736   992   992  1568  1552  1408  1152  1344  1392  \n",
              "2  2256  2208  1808  2352  2736  2448  2208  2128  2320  \n",
              "3  1424  1648  1584  2272  2512  1968  1728  1920  1920  \n",
              "4  1136  1488  1280  1728  1200  1808  1536  1664  2000  \n",
              "\n",
              "[5 rows x 64 columns]"
            ]
          },
          "metadata": {
            "tags": []
          },
          "execution_count": 124
        }
      ]
    },
    {
      "metadata": {
        "id": "uKJIrJN-Vvae",
        "colab_type": "code",
        "colab": {}
      },
      "cell_type": "code",
      "source": [
        "#This is being ignored so we can process the direct way rather than the mon-dataframe way\n",
        "#once again add the stim data\n",
        "#col_name2 = 'stim_2' #index is still 64\n",
        "#data_test2.insert(idx, column = col_name2, value=stim_2)\n",
        "#data_test2.head()"
      ],
      "execution_count": 0,
      "outputs": []
    },
    {
      "metadata": {
        "id": "iLvpBJNnaGpO",
        "colab_type": "text"
      },
      "cell_type": "markdown",
      "source": [
        "**(1b) Scaler **"
      ]
    },
    {
      "metadata": {
        "id": "SPH1xTmjXepN",
        "colab_type": "code",
        "colab": {}
      },
      "cell_type": "code",
      "source": [
        "#scale the data\n",
        "from sklearn.preprocessing import StandardScaler"
      ],
      "execution_count": 0,
      "outputs": []
    },
    {
      "metadata": {
        "id": "tAFf0W5QXm2k",
        "colab_type": "code",
        "colab": {}
      },
      "cell_type": "code",
      "source": [
        "scaler = StandardScaler()"
      ],
      "execution_count": 0,
      "outputs": []
    },
    {
      "metadata": {
        "id": "uNoWDpG3XsEN",
        "colab_type": "code",
        "outputId": "9fb3db80-0200-486d-d9e3-2da5b72412d2",
        "colab": {
          "base_uri": "https://localhost:8080/",
          "height": 34
        }
      },
      "cell_type": "code",
      "source": [
        "scaler.fit(data_train.drop('stim_1', axis = 1))"
      ],
      "execution_count": 0,
      "outputs": [
        {
          "output_type": "execute_result",
          "data": {
            "text/plain": [
              "StandardScaler(copy=True, with_mean=True, with_std=True)"
            ]
          },
          "metadata": {
            "tags": []
          },
          "execution_count": 128
        }
      ]
    },
    {
      "metadata": {
        "id": "4ctmMCNYZYbt",
        "colab_type": "code",
        "outputId": "6ca53518-be81-49da-beb6-a190c1e09599",
        "colab": {
          "base_uri": "https://localhost:8080/",
          "height": 34
        }
      },
      "cell_type": "code",
      "source": [
        "type(scaler)"
      ],
      "execution_count": 0,
      "outputs": [
        {
          "output_type": "execute_result",
          "data": {
            "text/plain": [
              "sklearn.preprocessing.data.StandardScaler"
            ]
          },
          "metadata": {
            "tags": []
          },
          "execution_count": 129
        }
      ]
    },
    {
      "metadata": {
        "id": "zDWqdLfUYDFF",
        "colab_type": "code",
        "colab": {}
      },
      "cell_type": "code",
      "source": [
        "scaled_feat = scaler.transform(data_train.drop('stim_1', axis = 1))"
      ],
      "execution_count": 0,
      "outputs": []
    },
    {
      "metadata": {
        "id": "vHWYu4d8WAl1",
        "colab_type": "code",
        "outputId": "4719c32f-6956-4801-8275-a4b7217c3a73",
        "colab": {
          "base_uri": "https://localhost:8080/",
          "height": 253
        }
      },
      "cell_type": "code",
      "source": [
        "#now make the dataframe using scaled values\n",
        "eeg_feat = pd.DataFrame(scaled_feat, columns = data_train.columns[:-1].astype(str))#feature_columns requires str type column names\n",
        "eeg_feat.head()"
      ],
      "execution_count": 0,
      "outputs": [
        {
          "output_type": "execute_result",
          "data": {
            "text/html": [
              "<div>\n",
              "<style scoped>\n",
              "    .dataframe tbody tr th:only-of-type {\n",
              "        vertical-align: middle;\n",
              "    }\n",
              "\n",
              "    .dataframe tbody tr th {\n",
              "        vertical-align: top;\n",
              "    }\n",
              "\n",
              "    .dataframe thead th {\n",
              "        text-align: right;\n",
              "    }\n",
              "</style>\n",
              "<table border=\"1\" class=\"dataframe\">\n",
              "  <thead>\n",
              "    <tr style=\"text-align: right;\">\n",
              "      <th></th>\n",
              "      <th>0</th>\n",
              "      <th>1</th>\n",
              "      <th>2</th>\n",
              "      <th>3</th>\n",
              "      <th>4</th>\n",
              "      <th>5</th>\n",
              "      <th>6</th>\n",
              "      <th>7</th>\n",
              "      <th>8</th>\n",
              "      <th>9</th>\n",
              "      <th>...</th>\n",
              "      <th>54</th>\n",
              "      <th>55</th>\n",
              "      <th>56</th>\n",
              "      <th>57</th>\n",
              "      <th>58</th>\n",
              "      <th>59</th>\n",
              "      <th>60</th>\n",
              "      <th>61</th>\n",
              "      <th>62</th>\n",
              "      <th>63</th>\n",
              "    </tr>\n",
              "  </thead>\n",
              "  <tbody>\n",
              "    <tr>\n",
              "      <th>0</th>\n",
              "      <td>-0.675027</td>\n",
              "      <td>-0.543574</td>\n",
              "      <td>-0.522744</td>\n",
              "      <td>-0.849665</td>\n",
              "      <td>-0.398053</td>\n",
              "      <td>-0.415461</td>\n",
              "      <td>0.056488</td>\n",
              "      <td>-0.386308</td>\n",
              "      <td>-0.496252</td>\n",
              "      <td>-0.549041</td>\n",
              "      <td>...</td>\n",
              "      <td>-0.060696</td>\n",
              "      <td>-0.421182</td>\n",
              "      <td>-0.674631</td>\n",
              "      <td>-0.617957</td>\n",
              "      <td>-0.608228</td>\n",
              "      <td>-0.307298</td>\n",
              "      <td>-0.507508</td>\n",
              "      <td>-0.505991</td>\n",
              "      <td>-0.730880</td>\n",
              "      <td>0.027824</td>\n",
              "    </tr>\n",
              "    <tr>\n",
              "      <th>1</th>\n",
              "      <td>0.075615</td>\n",
              "      <td>-0.063078</td>\n",
              "      <td>-0.140521</td>\n",
              "      <td>-0.619793</td>\n",
              "      <td>-0.239758</td>\n",
              "      <td>-0.267249</td>\n",
              "      <td>0.307521</td>\n",
              "      <td>-0.118157</td>\n",
              "      <td>-0.246897</td>\n",
              "      <td>-0.348919</td>\n",
              "      <td>...</td>\n",
              "      <td>-0.996003</td>\n",
              "      <td>-0.820855</td>\n",
              "      <td>-0.983922</td>\n",
              "      <td>-0.876909</td>\n",
              "      <td>-0.968413</td>\n",
              "      <td>-0.907614</td>\n",
              "      <td>-0.715145</td>\n",
              "      <td>-0.735998</td>\n",
              "      <td>-1.000946</td>\n",
              "      <td>-0.494787</td>\n",
              "    </tr>\n",
              "    <tr>\n",
              "      <th>2</th>\n",
              "      <td>-0.376978</td>\n",
              "      <td>-0.212566</td>\n",
              "      <td>-0.162363</td>\n",
              "      <td>-0.597900</td>\n",
              "      <td>-0.378266</td>\n",
              "      <td>-0.405580</td>\n",
              "      <td>-0.063051</td>\n",
              "      <td>-0.397966</td>\n",
              "      <td>-0.360240</td>\n",
              "      <td>-0.426744</td>\n",
              "      <td>...</td>\n",
              "      <td>-0.771056</td>\n",
              "      <td>-0.797345</td>\n",
              "      <td>-0.903736</td>\n",
              "      <td>-0.594416</td>\n",
              "      <td>-0.664507</td>\n",
              "      <td>-0.642090</td>\n",
              "      <td>-0.605220</td>\n",
              "      <td>-0.578625</td>\n",
              "      <td>-0.754364</td>\n",
              "      <td>-0.456547</td>\n",
              "    </tr>\n",
              "    <tr>\n",
              "      <th>3</th>\n",
              "      <td>-0.101007</td>\n",
              "      <td>0.075732</td>\n",
              "      <td>0.154336</td>\n",
              "      <td>-0.280458</td>\n",
              "      <td>-0.061676</td>\n",
              "      <td>-0.069633</td>\n",
              "      <td>0.104304</td>\n",
              "      <td>0.149993</td>\n",
              "      <td>-0.008876</td>\n",
              "      <td>-0.148797</td>\n",
              "      <td>...</td>\n",
              "      <td>-0.344840</td>\n",
              "      <td>-0.385916</td>\n",
              "      <td>-0.594444</td>\n",
              "      <td>-0.464940</td>\n",
              "      <td>-0.518181</td>\n",
              "      <td>-0.457377</td>\n",
              "      <td>-0.409797</td>\n",
              "      <td>-0.421251</td>\n",
              "      <td>-0.543008</td>\n",
              "      <td>-0.137882</td>\n",
              "    </tr>\n",
              "    <tr>\n",
              "      <th>4</th>\n",
              "      <td>0.439897</td>\n",
              "      <td>0.107765</td>\n",
              "      <td>0.066971</td>\n",
              "      <td>-0.389921</td>\n",
              "      <td>-0.051782</td>\n",
              "      <td>-0.069633</td>\n",
              "      <td>0.259705</td>\n",
              "      <td>0.115017</td>\n",
              "      <td>-0.201559</td>\n",
              "      <td>-0.360037</td>\n",
              "      <td>...</td>\n",
              "      <td>-0.617145</td>\n",
              "      <td>-0.985426</td>\n",
              "      <td>-0.880825</td>\n",
              "      <td>-0.500252</td>\n",
              "      <td>-0.698274</td>\n",
              "      <td>-0.607456</td>\n",
              "      <td>-0.519722</td>\n",
              "      <td>-0.505991</td>\n",
              "      <td>-0.695654</td>\n",
              "      <td>-0.405561</td>\n",
              "    </tr>\n",
              "  </tbody>\n",
              "</table>\n",
              "<p>5 rows × 64 columns</p>\n",
              "</div>"
            ],
            "text/plain": [
              "          0         1         2         3         4         5         6  \\\n",
              "0 -0.675027 -0.543574 -0.522744 -0.849665 -0.398053 -0.415461  0.056488   \n",
              "1  0.075615 -0.063078 -0.140521 -0.619793 -0.239758 -0.267249  0.307521   \n",
              "2 -0.376978 -0.212566 -0.162363 -0.597900 -0.378266 -0.405580 -0.063051   \n",
              "3 -0.101007  0.075732  0.154336 -0.280458 -0.061676 -0.069633  0.104304   \n",
              "4  0.439897  0.107765  0.066971 -0.389921 -0.051782 -0.069633  0.259705   \n",
              "\n",
              "          7         8         9    ...           54        55        56  \\\n",
              "0 -0.386308 -0.496252 -0.549041    ...    -0.060696 -0.421182 -0.674631   \n",
              "1 -0.118157 -0.246897 -0.348919    ...    -0.996003 -0.820855 -0.983922   \n",
              "2 -0.397966 -0.360240 -0.426744    ...    -0.771056 -0.797345 -0.903736   \n",
              "3  0.149993 -0.008876 -0.148797    ...    -0.344840 -0.385916 -0.594444   \n",
              "4  0.115017 -0.201559 -0.360037    ...    -0.617145 -0.985426 -0.880825   \n",
              "\n",
              "         57        58        59        60        61        62        63  \n",
              "0 -0.617957 -0.608228 -0.307298 -0.507508 -0.505991 -0.730880  0.027824  \n",
              "1 -0.876909 -0.968413 -0.907614 -0.715145 -0.735998 -1.000946 -0.494787  \n",
              "2 -0.594416 -0.664507 -0.642090 -0.605220 -0.578625 -0.754364 -0.456547  \n",
              "3 -0.464940 -0.518181 -0.457377 -0.409797 -0.421251 -0.543008 -0.137882  \n",
              "4 -0.500252 -0.698274 -0.607456 -0.519722 -0.505991 -0.695654 -0.405561  \n",
              "\n",
              "[5 rows x 64 columns]"
            ]
          },
          "metadata": {
            "tags": []
          },
          "execution_count": 131
        }
      ]
    },
    {
      "metadata": {
        "id": "QJhUq_hcW_nI",
        "colab_type": "code",
        "colab": {}
      },
      "cell_type": "code",
      "source": [
        "#Now we need to scale the testing data (data_test2)\n",
        "#gonna just work on it directly instead of doing the add remove stim_2 approach to save time\n",
        "scaler2 = StandardScaler()"
      ],
      "execution_count": 0,
      "outputs": []
    },
    {
      "metadata": {
        "id": "CGnzRBWIasyN",
        "colab_type": "code",
        "outputId": "d4f78356-6d15-4efa-a89c-d368a0e368d1",
        "colab": {
          "base_uri": "https://localhost:8080/",
          "height": 34
        }
      },
      "cell_type": "code",
      "source": [
        "scaler2.fit(data_test2)"
      ],
      "execution_count": 0,
      "outputs": [
        {
          "output_type": "execute_result",
          "data": {
            "text/plain": [
              "StandardScaler(copy=True, with_mean=True, with_std=True)"
            ]
          },
          "metadata": {
            "tags": []
          },
          "execution_count": 133
        }
      ]
    },
    {
      "metadata": {
        "id": "ISZoJwLLbhwt",
        "colab_type": "code",
        "colab": {}
      },
      "cell_type": "code",
      "source": [
        "scaled_test2 = scaler.transform(data_test2)"
      ],
      "execution_count": 0,
      "outputs": []
    },
    {
      "metadata": {
        "id": "nMuFcTL3bt1c",
        "colab_type": "code",
        "outputId": "5ff075ec-a108-43b9-d353-bba2b901f8f9",
        "colab": {
          "base_uri": "https://localhost:8080/",
          "height": 253
        }
      },
      "cell_type": "code",
      "source": [
        "eeg_test2 = pd.DataFrame(scaled_test2, columns = data_test2.columns.astype(str))\n",
        "eeg_test2.head()"
      ],
      "execution_count": 0,
      "outputs": [
        {
          "output_type": "execute_result",
          "data": {
            "text/html": [
              "<div>\n",
              "<style scoped>\n",
              "    .dataframe tbody tr th:only-of-type {\n",
              "        vertical-align: middle;\n",
              "    }\n",
              "\n",
              "    .dataframe tbody tr th {\n",
              "        vertical-align: top;\n",
              "    }\n",
              "\n",
              "    .dataframe thead th {\n",
              "        text-align: right;\n",
              "    }\n",
              "</style>\n",
              "<table border=\"1\" class=\"dataframe\">\n",
              "  <thead>\n",
              "    <tr style=\"text-align: right;\">\n",
              "      <th></th>\n",
              "      <th>0</th>\n",
              "      <th>1</th>\n",
              "      <th>2</th>\n",
              "      <th>3</th>\n",
              "      <th>4</th>\n",
              "      <th>5</th>\n",
              "      <th>6</th>\n",
              "      <th>7</th>\n",
              "      <th>8</th>\n",
              "      <th>9</th>\n",
              "      <th>...</th>\n",
              "      <th>54</th>\n",
              "      <th>55</th>\n",
              "      <th>56</th>\n",
              "      <th>57</th>\n",
              "      <th>58</th>\n",
              "      <th>59</th>\n",
              "      <th>60</th>\n",
              "      <th>61</th>\n",
              "      <th>62</th>\n",
              "      <th>63</th>\n",
              "    </tr>\n",
              "  </thead>\n",
              "  <tbody>\n",
              "    <tr>\n",
              "      <th>0</th>\n",
              "      <td>0.539246</td>\n",
              "      <td>0.011665</td>\n",
              "      <td>0.165257</td>\n",
              "      <td>0.015092</td>\n",
              "      <td>-0.022102</td>\n",
              "      <td>-0.030110</td>\n",
              "      <td>-0.840058</td>\n",
              "      <td>1.036055</td>\n",
              "      <td>0.557840</td>\n",
              "      <td>0.362626</td>\n",
              "      <td>...</td>\n",
              "      <td>0.957487</td>\n",
              "      <td>0.730817</td>\n",
              "      <td>0.848917</td>\n",
              "      <td>0.512015</td>\n",
              "      <td>0.821259</td>\n",
              "      <td>0.720164</td>\n",
              "      <td>0.921523</td>\n",
              "      <td>0.825631</td>\n",
              "      <td>0.866030</td>\n",
              "      <td>1.047552</td>\n",
              "    </tr>\n",
              "    <tr>\n",
              "      <th>1</th>\n",
              "      <td>0.561324</td>\n",
              "      <td>0.107765</td>\n",
              "      <td>0.263543</td>\n",
              "      <td>0.124555</td>\n",
              "      <td>0.215341</td>\n",
              "      <td>0.226791</td>\n",
              "      <td>-0.433624</td>\n",
              "      <td>0.954444</td>\n",
              "      <td>0.682517</td>\n",
              "      <td>0.496040</td>\n",
              "      <td>...</td>\n",
              "      <td>1.727044</td>\n",
              "      <td>0.483961</td>\n",
              "      <td>0.734365</td>\n",
              "      <td>0.617950</td>\n",
              "      <td>1.035119</td>\n",
              "      <td>1.054955</td>\n",
              "      <td>0.945951</td>\n",
              "      <td>0.874054</td>\n",
              "      <td>0.948224</td>\n",
              "      <td>1.034806</td>\n",
              "    </tr>\n",
              "    <tr>\n",
              "      <th>2</th>\n",
              "      <td>0.704829</td>\n",
              "      <td>0.396062</td>\n",
              "      <td>0.481956</td>\n",
              "      <td>0.343480</td>\n",
              "      <td>0.482464</td>\n",
              "      <td>0.493572</td>\n",
              "      <td>-0.194545</td>\n",
              "      <td>1.245911</td>\n",
              "      <td>0.931872</td>\n",
              "      <td>0.762870</td>\n",
              "      <td>...</td>\n",
              "      <td>1.916473</td>\n",
              "      <td>1.600694</td>\n",
              "      <td>1.604963</td>\n",
              "      <td>1.218248</td>\n",
              "      <td>1.586654</td>\n",
              "      <td>1.909250</td>\n",
              "      <td>1.739858</td>\n",
              "      <td>1.673027</td>\n",
              "      <td>1.523581</td>\n",
              "      <td>1.774109</td>\n",
              "    </tr>\n",
              "    <tr>\n",
              "      <th>3</th>\n",
              "      <td>1.444432</td>\n",
              "      <td>0.823170</td>\n",
              "      <td>0.973385</td>\n",
              "      <td>0.814171</td>\n",
              "      <td>0.848521</td>\n",
              "      <td>0.849281</td>\n",
              "      <td>0.331429</td>\n",
              "      <td>1.712260</td>\n",
              "      <td>1.351242</td>\n",
              "      <td>1.218703</td>\n",
              "      <td>...</td>\n",
              "      <td>1.809919</td>\n",
              "      <td>0.989430</td>\n",
              "      <td>1.204030</td>\n",
              "      <td>1.053460</td>\n",
              "      <td>1.530375</td>\n",
              "      <td>1.747626</td>\n",
              "      <td>1.373439</td>\n",
              "      <td>1.309858</td>\n",
              "      <td>1.370935</td>\n",
              "      <td>1.455444</td>\n",
              "    </tr>\n",
              "    <tr>\n",
              "      <th>4</th>\n",
              "      <td>0.892489</td>\n",
              "      <td>0.449451</td>\n",
              "      <td>0.711290</td>\n",
              "      <td>0.682815</td>\n",
              "      <td>0.680332</td>\n",
              "      <td>0.671427</td>\n",
              "      <td>-0.086959</td>\n",
              "      <td>1.292546</td>\n",
              "      <td>1.011213</td>\n",
              "      <td>0.985228</td>\n",
              "      <td>...</td>\n",
              "      <td>1.253470</td>\n",
              "      <td>0.777838</td>\n",
              "      <td>1.089477</td>\n",
              "      <td>0.829820</td>\n",
              "      <td>1.147677</td>\n",
              "      <td>0.800976</td>\n",
              "      <td>1.251300</td>\n",
              "      <td>1.164590</td>\n",
              "      <td>1.183063</td>\n",
              "      <td>1.519177</td>\n",
              "    </tr>\n",
              "  </tbody>\n",
              "</table>\n",
              "<p>5 rows × 64 columns</p>\n",
              "</div>"
            ],
            "text/plain": [
              "          0         1         2         3         4         5         6  \\\n",
              "0  0.539246  0.011665  0.165257  0.015092 -0.022102 -0.030110 -0.840058   \n",
              "1  0.561324  0.107765  0.263543  0.124555  0.215341  0.226791 -0.433624   \n",
              "2  0.704829  0.396062  0.481956  0.343480  0.482464  0.493572 -0.194545   \n",
              "3  1.444432  0.823170  0.973385  0.814171  0.848521  0.849281  0.331429   \n",
              "4  0.892489  0.449451  0.711290  0.682815  0.680332  0.671427 -0.086959   \n",
              "\n",
              "          7         8         9    ...           54        55        56  \\\n",
              "0  1.036055  0.557840  0.362626    ...     0.957487  0.730817  0.848917   \n",
              "1  0.954444  0.682517  0.496040    ...     1.727044  0.483961  0.734365   \n",
              "2  1.245911  0.931872  0.762870    ...     1.916473  1.600694  1.604963   \n",
              "3  1.712260  1.351242  1.218703    ...     1.809919  0.989430  1.204030   \n",
              "4  1.292546  1.011213  0.985228    ...     1.253470  0.777838  1.089477   \n",
              "\n",
              "         57        58        59        60        61        62        63  \n",
              "0  0.512015  0.821259  0.720164  0.921523  0.825631  0.866030  1.047552  \n",
              "1  0.617950  1.035119  1.054955  0.945951  0.874054  0.948224  1.034806  \n",
              "2  1.218248  1.586654  1.909250  1.739858  1.673027  1.523581  1.774109  \n",
              "3  1.053460  1.530375  1.747626  1.373439  1.309858  1.370935  1.455444  \n",
              "4  0.829820  1.147677  0.800976  1.251300  1.164590  1.183063  1.519177  \n",
              "\n",
              "[5 rows x 64 columns]"
            ]
          },
          "metadata": {
            "tags": []
          },
          "execution_count": 135
        }
      ]
    },
    {
      "metadata": {
        "id": "k96EFNUbdFzT",
        "colab_type": "text"
      },
      "cell_type": "markdown",
      "source": [
        "**(2) Build the DNN calssifier**"
      ]
    },
    {
      "metadata": {
        "id": "gRMqS3x6c4cc",
        "colab_type": "code",
        "colab": {}
      },
      "cell_type": "code",
      "source": [
        "X = eeg_feat\n",
        "y = data_train['stim_1'] #y has been converted to type int32 as required by the classifier\n",
        "\n",
        "feat_cols = []\n",
        "for col in eeg_feat.columns:\n",
        "  feat_cols.append(tf.feature_column.numeric_column(col))"
      ],
      "execution_count": 0,
      "outputs": []
    },
    {
      "metadata": {
        "id": "vMYgZP1Sk6MK",
        "colab_type": "code",
        "outputId": "b7a13462-3f1e-4486-c241-4aa9d22fed83",
        "colab": {
          "base_uri": "https://localhost:8080/",
          "height": 34
        }
      },
      "cell_type": "code",
      "source": [
        "type(y)"
      ],
      "execution_count": 0,
      "outputs": [
        {
          "output_type": "execute_result",
          "data": {
            "text/plain": [
              "pandas.core.series.Series"
            ]
          },
          "metadata": {
            "tags": []
          },
          "execution_count": 137
        }
      ]
    },
    {
      "metadata": {
        "id": "L2lz0pzgde1j",
        "colab_type": "code",
        "outputId": "515c5c37-82dc-4612-c518-48a68d7ef018",
        "colab": {
          "base_uri": "https://localhost:8080/",
          "height": 190
        }
      },
      "cell_type": "code",
      "source": [
        "classifier = tf.estimator.DNNClassifier(hidden_units = [100], n_classes = 3, feature_columns = feat_cols)"
      ],
      "execution_count": 0,
      "outputs": [
        {
          "output_type": "stream",
          "text": [
            "INFO:tensorflow:Using default config.\n",
            "WARNING:tensorflow:Using temporary folder as model directory: /tmp/tmpym59k0bm\n",
            "INFO:tensorflow:Using config: {'_model_dir': '/tmp/tmpym59k0bm', '_tf_random_seed': None, '_save_summary_steps': 100, '_save_checkpoints_steps': None, '_save_checkpoints_secs': 600, '_session_config': allow_soft_placement: true\n",
            "graph_options {\n",
            "  rewrite_options {\n",
            "    meta_optimizer_iterations: ONE\n",
            "  }\n",
            "}\n",
            ", '_keep_checkpoint_max': 5, '_keep_checkpoint_every_n_hours': 10000, '_log_step_count_steps': 100, '_train_distribute': None, '_device_fn': None, '_protocol': None, '_eval_distribute': None, '_experimental_distribute': None, '_service': None, '_cluster_spec': <tensorflow.python.training.server_lib.ClusterSpec object at 0x7fdc8fef4978>, '_task_type': 'worker', '_task_id': 0, '_global_id_in_cluster': 0, '_master': '', '_evaluation_master': '', '_is_chief': True, '_num_ps_replicas': 0, '_num_worker_replicas': 1}\n"
          ],
          "name": "stdout"
        }
      ]
    },
    {
      "metadata": {
        "id": "DbJQBi-_jWHi",
        "colab_type": "text"
      },
      "cell_type": "markdown",
      "source": [
        "**(3) Train the classifier**"
      ]
    },
    {
      "metadata": {
        "id": "dvFcJvVQjFZb",
        "colab_type": "code",
        "colab": {}
      },
      "cell_type": "code",
      "source": [
        "input_fun = tf.estimator.inputs.pandas_input_fn(x = X, y = y, batch_size = 50, shuffle = True)"
      ],
      "execution_count": 0,
      "outputs": []
    },
    {
      "metadata": {
        "id": "k1FdNXChjzj7",
        "colab_type": "code",
        "outputId": "f685a7ce-0d41-4b29-ae5c-62d2ce7ede8e",
        "colab": {
          "base_uri": "https://localhost:8080/",
          "height": 323
        }
      },
      "cell_type": "code",
      "source": [
        "classifier.train(input_fn = input_fun, steps=1000) #actually trains the classifier"
      ],
      "execution_count": 0,
      "outputs": [
        {
          "output_type": "stream",
          "text": [
            "INFO:tensorflow:Calling model_fn.\n",
            "INFO:tensorflow:Done calling model_fn.\n",
            "INFO:tensorflow:Create CheckpointSaverHook.\n",
            "INFO:tensorflow:Graph was finalized.\n",
            "INFO:tensorflow:Restoring parameters from /tmp/tmpym59k0bm/model.ckpt-544\n",
            "INFO:tensorflow:Running local_init_op.\n",
            "INFO:tensorflow:Done running local_init_op.\n",
            "INFO:tensorflow:Saving checkpoints for 544 into /tmp/tmpym59k0bm/model.ckpt.\n",
            "INFO:tensorflow:loss = 78.10813, step = 545\n",
            "INFO:tensorflow:global_step/sec: 84.8928\n",
            "INFO:tensorflow:loss = 29.67332, step = 645 (1.184 sec)\n",
            "INFO:tensorflow:global_step/sec: 90.3185\n",
            "INFO:tensorflow:loss = 38.165367, step = 745 (1.114 sec)\n",
            "INFO:tensorflow:global_step/sec: 91.0997\n",
            "INFO:tensorflow:loss = 43.754623, step = 845 (1.088 sec)\n",
            "INFO:tensorflow:Saving checkpoints for 938 into /tmp/tmpym59k0bm/model.ckpt.\n",
            "INFO:tensorflow:Loss for final step: 40.500793.\n"
          ],
          "name": "stdout"
        },
        {
          "output_type": "execute_result",
          "data": {
            "text/plain": [
              "<tensorflow.python.estimator.canned.dnn.DNNClassifier at 0x7fdc8fef4128>"
            ]
          },
          "metadata": {
            "tags": []
          },
          "execution_count": 303
        }
      ]
    },
    {
      "metadata": {
        "id": "eVJqv1scj9m7",
        "colab_type": "code",
        "colab": {}
      },
      "cell_type": "code",
      "source": [
        "#predict results using the model on the test set\n",
        "pred_fn = tf.estimator.inputs.pandas_input_fn(x=eeg_test2, batch_size=len(eeg_test2), shuffle=False)"
      ],
      "execution_count": 0,
      "outputs": []
    },
    {
      "metadata": {
        "id": "WVpmlwMOm8Oh",
        "colab_type": "code",
        "outputId": "fd5c1805-71a6-4f71-e813-70c7336db760",
        "colab": {
          "base_uri": "https://localhost:8080/",
          "height": 119
        }
      },
      "cell_type": "code",
      "source": [
        "note_predictions = list(classifier.predict(input_fn=pred_fn))"
      ],
      "execution_count": 0,
      "outputs": [
        {
          "output_type": "stream",
          "text": [
            "INFO:tensorflow:Calling model_fn.\n",
            "INFO:tensorflow:Done calling model_fn.\n",
            "INFO:tensorflow:Graph was finalized.\n",
            "INFO:tensorflow:Restoring parameters from /tmp/tmpym59k0bm/model.ckpt-938\n",
            "INFO:tensorflow:Running local_init_op.\n",
            "INFO:tensorflow:Done running local_init_op.\n"
          ],
          "name": "stdout"
        }
      ]
    },
    {
      "metadata": {
        "id": "TTK417lbm-e5",
        "colab_type": "code",
        "colab": {}
      },
      "cell_type": "code",
      "source": [
        "final_preds = []\n",
        "for pred in note_predictions:\n",
        "  final_preds.append(pred['class_ids'][0])"
      ],
      "execution_count": 0,
      "outputs": []
    },
    {
      "metadata": {
        "id": "Q_jsP0Gsmj2S",
        "colab_type": "text"
      },
      "cell_type": "markdown",
      "source": [
        "**(4) Report results**"
      ]
    },
    {
      "metadata": {
        "id": "zkRVQxhsmrwS",
        "colab_type": "code",
        "outputId": "1036d5c0-9c2c-467d-898c-1586dd7ebb8c",
        "colab": {
          "base_uri": "https://localhost:8080/",
          "height": 68
        }
      },
      "cell_type": "code",
      "source": [
        "print(confusion_matrix(stim_2, final_preds))"
      ],
      "execution_count": 0,
      "outputs": [
        {
          "output_type": "stream",
          "text": [
            "[[6048 2080 1728]\n",
            " [2988 1299  961]\n",
            " [1616 1863 1113]]\n"
          ],
          "name": "stdout"
        }
      ]
    },
    {
      "metadata": {
        "id": "G76rqenrnn7h",
        "colab_type": "code",
        "outputId": "0409cd4c-ec3b-4ff3-fba1-4f0c472deb27",
        "colab": {
          "base_uri": "https://localhost:8080/",
          "height": 153
        }
      },
      "cell_type": "code",
      "source": [
        "print(classification_report(stim_2, final_preds))"
      ],
      "execution_count": 0,
      "outputs": [
        {
          "output_type": "stream",
          "text": [
            "             precision    recall  f1-score   support\n",
            "\n",
            "          0       0.57      0.61      0.59      9856\n",
            "          1       0.25      0.25      0.25      5248\n",
            "          2       0.29      0.24      0.27      4592\n",
            "\n",
            "avg / total       0.42      0.43      0.42     19696\n",
            "\n"
          ],
          "name": "stdout"
        }
      ]
    },
    {
      "metadata": {
        "id": "yxczlsoZnveJ",
        "colab_type": "code",
        "colab": {}
      },
      "cell_type": "code",
      "source": [
        "#this was all collected at 200Hz\n",
        "#so as live data is put in, the classifier would use a running average, if say over the last 100 samples (0.5 seconds) the average was strongly near 1,\n",
        "#then that would be classified as intent to go right, and if the average prediction was near 2 then that would be left; if it was near 0 then that would\n",
        "#be classified as no control command, etc."
      ],
      "execution_count": 0,
      "outputs": []
    }
  ]
}
